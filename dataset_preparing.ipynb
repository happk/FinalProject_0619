{
 "cells": [
  {
   "cell_type": "code",
   "execution_count": 1,
   "metadata": {},
   "outputs": [],
   "source": [
    "import os"
   ]
  },
  {
   "cell_type": "code",
   "execution_count": 2,
   "metadata": {},
   "outputs": [],
   "source": [
    "import pandas as pd\n",
    "from tool import YearMonth, yearmonth_range\n",
    "\n",
    "data = pd.read_csv('data/ChronicleData_cov2-s.csv')"
   ]
  },
  {
   "cell_type": "code",
   "execution_count": 9,
   "metadata": {},
   "outputs": [
    {
     "name": "stdout",
     "output_type": "stream",
     "text": [
      "18\n",
      "18\n"
     ]
    }
   ],
   "source": [
    "TrainRange = [YearMonth(2019, 12), YearMonth(2021, 6)]\n",
    "TestRange = [YearMonth(2021, 7), YearMonth(2023, 1)]\n",
    "print(int(TrainRange[1] - TrainRange[0]))\n",
    "print(int(TestRange[1] - TestRange[0]))\n",
    "sample_num = 200"
   ]
  },
  {
   "cell_type": "code",
   "execution_count": 4,
   "metadata": {},
   "outputs": [],
   "source": [
    "def sample_YM(data, start_ym:YearMonth, end_ym:YearMonth, sample_num:int=1):\n",
    "    sample_df = pd.DataFrame()\n",
    "    sample_num_rs = []\n",
    "    for ym in yearmonth_range(start_ym, end_ym):\n",
    "        pool = data[(data['year']*12 + data['month']) == ym.to_month()]\n",
    "        sample_num_r = min(sample_num, len(pool))\n",
    "        sample_new = pool.sample(n=sample_num_r, replace=False).reset_index(drop=True)\n",
    "        sample_df = pd.concat([sample_df, sample_new])\n",
    "        sample_num_rs.append(sample_num_r)\n",
    "    return sample_df, sample_num_rs"
   ]
  },
  {
   "cell_type": "code",
   "execution_count": 5,
   "metadata": {},
   "outputs": [],
   "source": [
    "train, train_count = sample_YM(data, TrainRange[0], TrainRange[1], 200)\n",
    "test, test_count = sample_YM(data, TestRange[0], TestRange[1], 200)"
   ]
  },
  {
   "cell_type": "code",
   "execution_count": 6,
   "metadata": {},
   "outputs": [
    {
     "data": {
      "text/plain": [
       "[1,\n",
       " 35,\n",
       " 38,\n",
       " 200,\n",
       " 200,\n",
       " 200,\n",
       " 200,\n",
       " 200,\n",
       " 200,\n",
       " 200,\n",
       " 200,\n",
       " 200,\n",
       " 200,\n",
       " 200,\n",
       " 200,\n",
       " 200,\n",
       " 200,\n",
       " 200,\n",
       " 200]"
      ]
     },
     "execution_count": 6,
     "metadata": {},
     "output_type": "execute_result"
    }
   ],
   "source": [
    "train_count"
   ]
  },
  {
   "cell_type": "code",
   "execution_count": 7,
   "metadata": {},
   "outputs": [
    {
     "data": {
      "text/plain": [
       "[200,\n",
       " 200,\n",
       " 200,\n",
       " 200,\n",
       " 200,\n",
       " 200,\n",
       " 200,\n",
       " 200,\n",
       " 200,\n",
       " 200,\n",
       " 200,\n",
       " 200,\n",
       " 200,\n",
       " 200,\n",
       " 200,\n",
       " 200,\n",
       " 200,\n",
       " 200,\n",
       " 200]"
      ]
     },
     "execution_count": 7,
     "metadata": {},
     "output_type": "execute_result"
    }
   ],
   "source": [
    "test_count"
   ]
  },
  {
   "cell_type": "code",
   "execution_count": 10,
   "metadata": {},
   "outputs": [],
   "source": [
    "train.to_csv(f'data/train_{sample_num}.csv', index=False)\n",
    "test.to_csv(f'data/test_{sample_num}.csv', index=False)"
   ]
  },
  {
   "cell_type": "code",
   "execution_count": 11,
   "metadata": {},
   "outputs": [
    {
     "name": "stdout",
     "output_type": "stream",
     "text": [
      "完成，已將DataFrame轉換為.mfasta格式並寫入data\\train_200.mfasta\n",
      "完成，已將DataFrame轉換為.mfasta格式並寫入data\\test_200.mfasta\n"
     ]
    }
   ],
   "source": [
    "# df to fasta\n",
    "\n",
    "def df_to_fasta(data):\n",
    "    fasta_list = [f\">{row['header']}\\n{row['sequence']}\" for _, row in data.iterrows()]\n",
    "    fasta_str = \"\\n\".join(fasta_list)\n",
    "    return fasta_str\n",
    "def df_to_fasta_file(dataPath, fastaPath=None):\n",
    "    data = pd.read_csv(dataPath)\n",
    "    if fastaPath is None:\n",
    "        fastaName = os.path.basename(dataPath).split('.')[0] + '.mfasta'\n",
    "        fastaPath = os.path.join(os.path.dirname(dataPath), fastaName)\n",
    "        \n",
    "    fasta_str = df_to_fasta(data)\n",
    "    \n",
    "    with open(fastaPath, \"w\") as output_handle:\n",
    "        output_handle.write(fasta_str)\n",
    "    print(f\"完成，已將DataFrame轉換為.mfasta格式並寫入{fastaPath}\")\n",
    "    \n",
    "df_to_fasta_file(f'data/train_{sample_num}.csv')\n",
    "df_to_fasta_file(f'data/test_{sample_num}.csv')"
   ]
  },
  {
   "cell_type": "code",
   "execution_count": 12,
   "metadata": {},
   "outputs": [
    {
     "name": "stdout",
     "output_type": "stream",
     "text": [
      "Calculating...\n",
      "Done.\n",
      "Used time: 6.72600007057s\n",
      "\n",
      "Calculating...\n",
      "Done.\n",
      "Used time: 7.42499995232s\n",
      "\n"
     ]
    }
   ],
   "source": [
    "# fasta to feature\n",
    "from work20230906 import ExtractFeatures\n",
    "# 由於是調用遠在天邊的pse-in-one，所以要用絕對路徑\n",
    "maindir = os.getcwd().replace('\\\\','/') + '/'\n",
    "train_fasta_path = maindir + f'data/train_{sample_num}.mfasta'\n",
    "test_fasta_path = maindir + f'data/test_{sample_num}.mfasta'\n",
    "train_feature_path = maindir + f'data/train_feature_{sample_num}.csv'\n",
    "test_feature_path = maindir + f'data/test_feature_{sample_num}.csv'\n",
    "\n",
    "encode = ['pse.py','SC-PseAAC',['-lamada','5','-w','0.2']]\n",
    "\n",
    "train_feature = ExtractFeatures(train_fasta_path, encode[0], encode[1], encode[2], train_feature_path)\n",
    "test_feature = ExtractFeatures(test_fasta_path, encode[0], encode[1], encode[2], test_feature_path)\n"
   ]
  },
  {
   "cell_type": "code",
   "execution_count": 13,
   "metadata": {},
   "outputs": [],
   "source": [
    "# add header to feature\n",
    "def add_header_to_feature(data_feature, data):\n",
    "    info_df = data[['header', 'sequence','year','month']]\n",
    "    \n",
    "    # 修改header(column name)，格式是{A: B}，A是原本的column name，B是新的column name\n",
    "    # 這裡是把原本的column name改成f0, f1, f2, ..., fn\n",
    "    # 而\"header\"保持不變\n",
    "    \n",
    "    new_columns = {i: f'f{i}' for i in range(len(data_feature.columns) - 1)}\n",
    "    data_feature = data_feature.rename(columns=new_columns)\n",
    "    data_feature = pd.concat([info_df, data_feature], axis=1)\n",
    "    \n",
    "    return data_feature\n",
    "train_feature = pd.read_csv(train_feature_path,header=None)\n",
    "test_feature = pd.read_csv(test_feature_path,header=None)\n",
    "train = pd.read_csv('data/train.csv')\n",
    "test = pd.read_csv('data/test.csv')\n",
    "\n",
    "train_feature_with_header = add_header_to_feature(train_feature, train)\n",
    "test_feature_with_header = add_header_to_feature(test_feature, test)\n",
    "\n",
    "train_feature_with_header.to_csv('data/train_feature_header.csv', index=False)\n",
    "test_feature_with_header.to_csv('data/test_feature_header.csv', index=False)"
   ]
  },
  {
   "cell_type": "markdown",
   "metadata": {},
   "source": [
    "# 統計"
   ]
  },
  {
   "cell_type": "code",
   "execution_count": 19,
   "metadata": {},
   "outputs": [],
   "source": [
    "import numpy as np\n",
    "import pandas as pd\n",
    "from tool import YearMonth, yearmonth_range"
   ]
  },
  {
   "cell_type": "code",
   "execution_count": 20,
   "metadata": {},
   "outputs": [],
   "source": [
    "def levenshtein_distance(seq1, seq2):\n",
    "    len_seq1 = len(seq1)\n",
    "    len_seq2 = len(seq2)\n",
    "    \n",
    "    # 初始化一個 (len_seq1+1) x (len_seq2+1) 的矩陣\n",
    "    dp = [[0 for _ in range(len_seq2 + 1)] for _ in range(len_seq1 + 1)]\n",
    "    \n",
    "    # 初始化第一列和第一行\n",
    "    for i in range(len_seq1 + 1):\n",
    "        dp[i][0] = i\n",
    "    for j in range(len_seq2 + 1):\n",
    "        dp[0][j] = j\n",
    "    \n",
    "    # 填充矩陣\n",
    "    for i in range(1, len_seq1 + 1):\n",
    "        for j in range(1, len_seq2 + 1):\n",
    "            if seq1[i - 1] == seq2[j - 1]:\n",
    "                dp[i][j] = dp[i - 1][j - 1]\n",
    "            else:\n",
    "                dp[i][j] = min(dp[i - 1][j] + 1,      # 刪除\n",
    "                               dp[i][j - 1] + 1,      # 插入\n",
    "                               dp[i - 1][j - 1] + 1)  # 替換\n",
    "    \n",
    "    # Levenshtein距離\n",
    "    return dp[len_seq1][len_seq2]\n",
    "\n",
    "def calculate_ld_matrix(df):\n",
    "    sequences = df['sequence'].tolist()\n",
    "    n = len(sequences)\n",
    "    ld_matrix = np.zeros((n, n), dtype=int)\n",
    "\n",
    "    for i in range(n):\n",
    "        for j in range(i+1, n):\n",
    "            ld = levenshtein_distance(sequences[i], sequences[j])\n",
    "            ld_matrix[i][j] = ld\n",
    "            ld_matrix[j][i] = ld  # LD是對稱的\n",
    "\n",
    "    return ld_matrix\n",
    "\n",
    "def month_LDmatrix(data, start_ym:YearMonth, end_ym:YearMonth):\n",
    "    ld_list = []\n",
    "    for ym in yearmonth_range(start_ym, end_ym):\n",
    "        pool = data[(data['year']*12 + data['month']) == ym.to_month()]\n",
    "        ld_matrix = calculate_ld_matrix(pool)\n",
    "        ld_list.append(ld_matrix)\n",
    "        print(f\"[ {ym.to_month()-start_ym.to_month()} / {end_ym.to_month()-start_ym.to_month()} ] {ym}的Levenshtein距離矩陣計算完成\")\n",
    "    return ld_list"
   ]
  },
  {
   "cell_type": "code",
   "execution_count": 21,
   "metadata": {},
   "outputs": [],
   "source": [
    "TrainRange = [YearMonth(2019, 12), YearMonth(2021, 6)]\n",
    "TestRange = [YearMonth(2021, 7), YearMonth(2023, 1)]\n",
    "train_set = pd.read_csv('data/train_feature_header.csv')\n",
    "test_set = pd.read_csv('data/test_feature_header.csv')"
   ]
  },
  {
   "cell_type": "code",
   "execution_count": null,
   "metadata": {},
   "outputs": [],
   "source": [
    "# 保存Levenshtein距離矩陣的list\n",
    "train_ld_list = month_LDmatrix(train_set, TrainRange[0], TrainRange[1])\n",
    "np.savez_compressed('data/train_ld_list.npz', *train_ld_list)"
   ]
  },
  {
   "cell_type": "code",
   "execution_count": 82,
   "metadata": {},
   "outputs": [
    {
     "name": "stdout",
     "output_type": "stream",
     "text": [
      "[ 0 / 18 ] 202107的Levenshtein距離矩陣計算完成\n",
      "[ 1 / 18 ] 202108的Levenshtein距離矩陣計算完成\n",
      "[ 2 / 18 ] 202109的Levenshtein距離矩陣計算完成\n",
      "[ 3 / 18 ] 202110的Levenshtein距離矩陣計算完成\n",
      "[ 4 / 18 ] 202111的Levenshtein距離矩陣計算完成\n",
      "[ 5 / 18 ] 202112的Levenshtein距離矩陣計算完成\n",
      "[ 6 / 18 ] 202201的Levenshtein距離矩陣計算完成\n",
      "[ 7 / 18 ] 202202的Levenshtein距離矩陣計算完成\n",
      "[ 8 / 18 ] 202203的Levenshtein距離矩陣計算完成\n",
      "[ 9 / 18 ] 202204的Levenshtein距離矩陣計算完成\n",
      "[ 10 / 18 ] 202205的Levenshtein距離矩陣計算完成\n",
      "[ 11 / 18 ] 202206的Levenshtein距離矩陣計算完成\n",
      "[ 12 / 18 ] 202207的Levenshtein距離矩陣計算完成\n",
      "[ 13 / 18 ] 202208的Levenshtein距離矩陣計算完成\n",
      "[ 14 / 18 ] 202209的Levenshtein距離矩陣計算完成\n",
      "[ 15 / 18 ] 202210的Levenshtein距離矩陣計算完成\n",
      "[ 16 / 18 ] 202211的Levenshtein距離矩陣計算完成\n",
      "[ 17 / 18 ] 202212的Levenshtein距離矩陣計算完成\n",
      "[ 18 / 18 ] 202301的Levenshtein距離矩陣計算完成\n"
     ]
    }
   ],
   "source": [
    "test_ld_list = month_LDmatrix(test_set, TestRange[0], TestRange[1])\n",
    "np.savez_compressed('data/test_ld_list.npz', *test_ld_list)"
   ]
  },
  {
   "cell_type": "code",
   "execution_count": 47,
   "metadata": {},
   "outputs": [],
   "source": [
    "def load_ld_list(dataPath):\n",
    "    with np.load(dataPath) as data:\n",
    "        # 提取所有矩陣並返回為列表\n",
    "        return [data[key] for key in data]"
   ]
  },
  {
   "cell_type": "code",
   "execution_count": 49,
   "metadata": {},
   "outputs": [],
   "source": [
    "a = load_ld_list('data/train_ld_list.npz')"
   ]
  },
  {
   "cell_type": "code",
   "execution_count": 70,
   "metadata": {},
   "outputs": [],
   "source": [
    "def stastic_ld(ld_matrix):\n",
    "    mask = np.triu(np.ones(ld_matrix.shape), k=1).astype(bool)\n",
    "    ld_matrix = ld_matrix[mask]\n",
    "    ld_mean = np.mean(ld_matrix)\n",
    "    ld_std = np.std(ld_matrix)\n",
    "    ld_max = np.max(ld_matrix)\n",
    "    ld_min = np.min(ld_matrix)\n",
    "    return ld_mean, ld_std, ld_max, ld_min"
   ]
  },
  {
   "cell_type": "code",
   "execution_count": 81,
   "metadata": {},
   "outputs": [
    {
     "name": "stdout",
     "output_type": "stream",
     "text": [
      "[ 01 ] 平均值: 6.27, 標準差: 4.51, 最大值: 23, 最小值: 1\n",
      "[ 02 ] 平均值: 6.30, 標準差: 8.24, 最大值: 46, 最小值: 1\n",
      "[ 03 ] 平均值: 4.24, 標準差: 3.60, 最大值: 24, 最小值: 1\n",
      "[ 04 ] 平均值: 4.58, 標準差: 3.62, 最大值: 23, 最小值: 1\n",
      "[ 05 ] 平均值: 3.72, 標準差: 1.66, 最大值: 12, 最小值: 1\n",
      "[ 06 ] 平均值: 3.80, 標準差: 1.61, 最大值: 13, 最小值: 1\n",
      "[ 07 ] 平均值: 3.14, 標準差: 0.79, 最大值: 6, 最小值: 1\n",
      "[ 08 ] 平均值: 6.01, 標準差: 4.85, 最大值: 34, 最小值: 2\n",
      "[ 09 ] 平均值: 4.31, 標準差: 1.94, 最大值: 15, 最小值: 2\n",
      "[ 10 ] 平均值: 4.72, 標準差: 2.86, 最大值: 23, 最小值: 2\n",
      "[ 11 ] 平均值: 4.90, 標準差: 1.94, 最大值: 14, 最小值: 1\n",
      "[ 12 ] 平均值: 4.51, 標準差: 1.53, 最大值: 11, 最小值: 2\n",
      "[ 13 ] 平均值: 6.70, 標準差: 3.22, 最大值: 19, 最小值: 2\n",
      "[ 14 ] 平均值: 8.77, 標準差: 3.79, 最大值: 21, 最小值: 2\n",
      "[ 15 ] 平均值: 9.86, 標準差: 4.35, 最大值: 25, 最小值: 2\n",
      "[ 16 ] 平均值: 13.75, 標準差: 5.75, 最大值: 25, 最小值: 2\n",
      "[ 17 ] 平均值: 15.10, 標準差: 6.40, 最大值: 28, 最小值: 2\n",
      "[ 18 ] 平均值: 16.07, 標準差: 7.77, 最大值: 28, 最小值: 2\n"
     ]
    }
   ],
   "source": [
    "for i, ld_matrix in enumerate(train_ld_list):\n",
    "    if i == 0:\n",
    "        continue\n",
    "    ld_mean, ld_std, ld_max, ld_min = stastic_ld(ld_matrix)\n",
    "    print(f\"[ {i:0>2} ] 平均值: {ld_mean:.2f}, 標準差: {ld_std:.2f}, 最大值: {ld_max}, 最小值: {ld_min}\")"
   ]
  },
  {
   "cell_type": "code",
   "execution_count": 85,
   "metadata": {},
   "outputs": [
    {
     "name": "stdout",
     "output_type": "stream",
     "text": [
      "[ 00 ] 平均值: 8.41, 標準差: 7.17, 最大值: 34, 最小值: 2\n",
      "[ 01 ] 平均值: 6.53, 標準差: 4.97, 最大值: 26, 最小值: 2\n",
      "[ 02 ] 平均值: 6.31, 標準差: 3.78, 最大值: 26, 最小值: 2\n",
      "[ 03 ] 平均值: 5.80, 標準差: 2.02, 最大值: 15, 最小值: 2\n",
      "[ 04 ] 平均值: 5.48, 標準差: 1.52, 最大值: 11, 最小值: 2\n",
      "[ 05 ] 平均值: 20.32, 標準差: 18.35, 最大值: 49, 最小值: 2\n",
      "[ 06 ] 平均值: 11.41, 標準差: 10.20, 最大值: 46, 最小值: 2\n",
      "[ 07 ] 平均值: 12.58, 標準差: 11.36, 最大值: 43, 最小值: 2\n",
      "[ 08 ] 平均值: 17.97, 標準差: 12.76, 最大值: 35, 最小值: 1\n",
      "[ 09 ] 平均值: 11.07, 標準差: 11.45, 最大值: 41, 最小值: 2\n",
      "[ 10 ] 平均值: 6.36, 標準差: 5.60, 最大值: 34, 最小值: 2\n",
      "[ 11 ] 平均值: 7.09, 標準差: 2.87, 最大值: 15, 最小值: 1\n",
      "[ 12 ] 平均值: 6.92, 標準差: 5.40, 最大值: 28, 最小值: 2\n",
      "[ 13 ] 平均值: 5.57, 標準差: 2.86, 最大值: 17, 最小值: 1\n",
      "[ 14 ] 平均值: 6.33, 標準差: 3.91, 最大值: 23, 最小值: 2\n",
      "[ 15 ] 平均值: 8.84, 標準差: 6.93, 最大值: 36, 最小值: 2\n",
      "[ 16 ] 平均值: 8.67, 標準差: 6.10, 最大值: 27, 最小值: 2\n",
      "[ 17 ] 平均值: 9.43, 標準差: 5.80, 最大值: 22, 最小值: 1\n",
      "[ 18 ] 平均值: 13.06, 標準差: 7.66, 最大值: 28, 最小值: 2\n"
     ]
    }
   ],
   "source": [
    "for i, ld_matrix in enumerate(test_ld_list):\n",
    "    ld_mean, ld_std, ld_max, ld_min = stastic_ld(ld_matrix)\n",
    "    print(f\"[ {i:0>2} ] 平均值: {ld_mean:.2f}, 標準差: {ld_std:.2f}, 最大值: {ld_max}, 最小值: {ld_min}\")"
   ]
  }
 ],
 "metadata": {
  "kernelspec": {
   "display_name": "data",
   "language": "python",
   "name": "python3"
  },
  "language_info": {
   "codemirror_mode": {
    "name": "ipython",
    "version": 3
   },
   "file_extension": ".py",
   "mimetype": "text/x-python",
   "name": "python",
   "nbconvert_exporter": "python",
   "pygments_lexer": "ipython3",
   "version": "3.9.19"
  }
 },
 "nbformat": 4,
 "nbformat_minor": 2
}
